{
 "cells": [
  {
   "cell_type": "code",
   "execution_count": 1,
   "id": "dd3af964",
   "metadata": {},
   "outputs": [],
   "source": [
    "import numpy as np\n",
    "import torch\n",
    "import matplotlib.pyplot as plt\n",
    "import librosa\n",
    "import librosa.display\n",
    "from tqdm import tqdm\n",
    "from torch.utils.data import Dataset, DataLoader\n",
    "import pandas as pd\n",
    "import os"
   ]
  },
  {
   "cell_type": "code",
   "execution_count": 2,
   "id": "3ca6d49e",
   "metadata": {},
   "outputs": [],
   "source": [
    "def plot_spectrogram(sig, Y, sr, hop_length, y_axis=\"linear\"):\n",
    "    plt.figure(figsize=(10, 5))\n",
    "    librosa.display.specshow(Y, sr=sr, hop_length=hop_length, x_axis=\"time\", y_axis=y_axis)\n",
    "    plt.colorbar(format=\"%+2.f\")\n",
    "    \n",
    "    print(sig.shape, sr)\n",
    "    \n",
    "    plt.figure(figsize=(10, 5))\n",
    "    plt.plot(np.linspace(0, sig.shape[0]/sr, sig.shape[0]), sig)\n",
    "    plt.show()"
   ]
  },
  {
   "cell_type": "code",
   "execution_count": 3,
   "id": "d7621fd1",
   "metadata": {},
   "outputs": [],
   "source": [
    "class AudioClassifyDataset(Dataset):\n",
    "    def __init__(self, root=\"./UrbanSound8K/\"):\n",
    "        \n",
    "        self.data = []\n",
    "        self.label = []\n",
    "        \n",
    "        FRAME_SIZE = 512\n",
    "        HOP_SIZE = 512\n",
    "        target_length = 88200\n",
    "        \n",
    "        meta = pd.read_csv(root+\"/metadata/UrbanSound8K.csv\")\n",
    "        \n",
    "        for fold in os.listdir(root+\"audio/\"):\n",
    "            if fold[0] == '.':\n",
    "                continue\n",
    "            print(fold)\n",
    "\n",
    "            for file in tqdm(os.listdir(root+\"audio/\"+fold+\"/\")):\n",
    "                if file[0] == '.':\n",
    "                    continue\n",
    "\n",
    "                PATH = root+\"audio/\"+fold+\"/\"+file\n",
    "                sig, sr = librosa.load(PATH)\n",
    "                sig = librosa.util.fix_length(sig, target_length)\n",
    "\n",
    "                S_scale = librosa.stft(sig, win_length=HOP_SIZE, n_fft=FRAME_SIZE, hop_length=HOP_SIZE)\n",
    "                Y_scale = abs(S_scale)**2\n",
    "                Y_db = librosa.power_to_db(Y_scale)\n",
    "                \n",
    "                \n",
    "                Y_db = np.expand_dims(Y_db, axis=0)\n",
    "                \n",
    "                #plot_spectrogram(sig, Y_db, sr, HOP_SIZE)\n",
    "                \n",
    "                idx = np.where(meta['slice_file_name'] == file)[0][0]\n",
    "                label = meta.iloc[[idx]]['classID'][idx]\n",
    "                \n",
    "                self.data.append(Y_db)\n",
    "                self.label.append(label)\n",
    "\n",
    "    def __len__(self):\n",
    "        assert(len(self.data) == len(self.label))\n",
    "        return len(self.label)\n",
    "\n",
    "    def __getitem__(self, idx):\n",
    "        return self.data[idx], self.label[idx]\n"
   ]
  },
  {
   "cell_type": "code",
   "execution_count": 4,
   "id": "c3aeacb5",
   "metadata": {
    "scrolled": true
   },
   "outputs": [
    {
     "name": "stdout",
     "output_type": "stream",
     "text": [
      "fold1\n"
     ]
    },
    {
     "name": "stderr",
     "output_type": "stream",
     "text": [
      "100%|████████████████████████████████████████████████████████████████████████████████| 874/874 [02:20<00:00,  6.24it/s]\n"
     ]
    },
    {
     "name": "stdout",
     "output_type": "stream",
     "text": [
      "fold10\n"
     ]
    },
    {
     "name": "stderr",
     "output_type": "stream",
     "text": [
      "100%|████████████████████████████████████████████████████████████████████████████████| 838/838 [02:07<00:00,  6.56it/s]\n"
     ]
    },
    {
     "name": "stdout",
     "output_type": "stream",
     "text": [
      "fold2\n"
     ]
    },
    {
     "name": "stderr",
     "output_type": "stream",
     "text": [
      "100%|████████████████████████████████████████████████████████████████████████████████| 889/889 [02:01<00:00,  7.34it/s]\n"
     ]
    },
    {
     "name": "stdout",
     "output_type": "stream",
     "text": [
      "fold3\n"
     ]
    },
    {
     "name": "stderr",
     "output_type": "stream",
     "text": [
      "100%|████████████████████████████████████████████████████████████████████████████████| 926/926 [02:02<00:00,  7.53it/s]\n"
     ]
    },
    {
     "name": "stdout",
     "output_type": "stream",
     "text": [
      "fold4\n"
     ]
    },
    {
     "name": "stderr",
     "output_type": "stream",
     "text": [
      "100%|████████████████████████████████████████████████████████████████████████████████| 991/991 [02:23<00:00,  6.93it/s]\n"
     ]
    },
    {
     "name": "stdout",
     "output_type": "stream",
     "text": [
      "fold5\n"
     ]
    },
    {
     "name": "stderr",
     "output_type": "stream",
     "text": [
      "100%|████████████████████████████████████████████████████████████████████████████████| 937/937 [02:10<00:00,  7.19it/s]\n"
     ]
    },
    {
     "name": "stdout",
     "output_type": "stream",
     "text": [
      "fold6\n"
     ]
    },
    {
     "name": "stderr",
     "output_type": "stream",
     "text": [
      "100%|████████████████████████████████████████████████████████████████████████████████| 824/824 [01:51<00:00,  7.38it/s]\n"
     ]
    },
    {
     "name": "stdout",
     "output_type": "stream",
     "text": [
      "fold7\n"
     ]
    },
    {
     "name": "stderr",
     "output_type": "stream",
     "text": [
      "100%|████████████████████████████████████████████████████████████████████████████████| 839/839 [01:58<00:00,  7.10it/s]\n"
     ]
    },
    {
     "name": "stdout",
     "output_type": "stream",
     "text": [
      "fold8\n"
     ]
    },
    {
     "name": "stderr",
     "output_type": "stream",
     "text": [
      "100%|████████████████████████████████████████████████████████████████████████████████| 807/807 [02:03<00:00,  6.53it/s]\n"
     ]
    },
    {
     "name": "stdout",
     "output_type": "stream",
     "text": [
      "fold9\n"
     ]
    },
    {
     "name": "stderr",
     "output_type": "stream",
     "text": [
      "100%|████████████████████████████████████████████████████████████████████████████████| 817/817 [01:59<00:00,  6.82it/s]\n"
     ]
    }
   ],
   "source": [
    "data_set = AudioClassifyDataset()\n",
    "torch.save(data_set, 'audio_dataset')"
   ]
  },
  {
   "cell_type": "code",
   "execution_count": null,
   "id": "c21c6ea3",
   "metadata": {},
   "outputs": [],
   "source": []
  }
 ],
 "metadata": {
  "kernelspec": {
   "display_name": "Python 3",
   "language": "python",
   "name": "python3"
  },
  "language_info": {
   "codemirror_mode": {
    "name": "ipython",
    "version": 3
   },
   "file_extension": ".py",
   "mimetype": "text/x-python",
   "name": "python",
   "nbconvert_exporter": "python",
   "pygments_lexer": "ipython3",
   "version": "3.6.13"
  }
 },
 "nbformat": 4,
 "nbformat_minor": 5
}
