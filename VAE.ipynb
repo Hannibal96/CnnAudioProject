{
 "cells": [
  {
   "cell_type": "code",
   "execution_count": 1,
   "id": "dbb0cb43",
   "metadata": {},
   "outputs": [],
   "source": [
    "import torch\n",
    "import torch.nn as nn\n",
    "import torch.nn.functional as F\n",
    "import matplotlib.pyplot as plt\n",
    "from tqdm import tqdm\n",
    "from torch.utils.data import Dataset, DataLoader, random_split, SubsetRandomSampler\n",
    "import pandas as pd\n",
    "import numpy as np"
   ]
  },
  {
   "cell_type": "code",
   "execution_count": 2,
   "id": "07312fbf",
   "metadata": {},
   "outputs": [],
   "source": [
    "class AudioClassifyDataset(Dataset):\n",
    "    def __init__(self, root=\"./UrbanSound8K/\"):\n",
    "        \n",
    "        self.data = []\n",
    "        self.label = []\n",
    "        \n",
    "        FRAME_SIZE = 512\n",
    "        HOP_SIZE = 512\n",
    "        target_length = 88200\n",
    "        \n",
    "        meta = pd.read_csv(root+\"/metadata/UrbanSound8K.csv\")\n",
    "        \n",
    "        for fold in os.listdir(root+\"audio/\"):\n",
    "            if fold[0] == '.':\n",
    "                continue\n",
    "            print(fold)\n",
    "\n",
    "            for file in tqdm(os.listdir(root+\"audio/\"+fold+\"/\")):\n",
    "                if file[0] == '.':\n",
    "                    continue\n",
    "\n",
    "                PATH = root+\"audio/\"+fold+\"/\"+file\n",
    "                sig, sr = librosa.load(PATH)\n",
    "                sig = librosa.util.fix_length(sig, target_length)\n",
    "\n",
    "                S_scale = librosa.stft(sig, win_length=HOP_SIZE, n_fft=FRAME_SIZE, hop_length=HOP_SIZE)\n",
    "                Y_scale = abs(S_scale)**2\n",
    "                Y_db = librosa.power_to_db(Y_scale)\n",
    "                \n",
    "                \n",
    "                Y_db = np.expand_dims(Y_db, axis=0)\n",
    "                \n",
    "                #plot_spectrogram(sig, Y_db, sr, HOP_SIZE)\n",
    "                \n",
    "                idx = np.where(meta['slice_file_name'] == file)[0][0]\n",
    "                label = meta.iloc[[idx]]['classID'][idx]\n",
    "                \n",
    "                self.data.append(Y_db)\n",
    "                self.label.append(label)\n",
    "\n",
    "    def __len__(self):\n",
    "        assert(len(self.data) == len(self.label))\n",
    "        return len(self.label)\n",
    "\n",
    "    def __getitem__(self, idx):\n",
    "        return self.data[idx], self.label[idx]\n"
   ]
  },
  {
   "cell_type": "code",
   "execution_count": 3,
   "id": "37bb0fb2",
   "metadata": {},
   "outputs": [],
   "source": [
    "class VarationalCnnAutoEncoder(nn.Module):\n",
    "    def __init__(self):\n",
    "        super(VarationalCnnAutoEncoder, self).__init__()\n",
    "        \n",
    "        self.conv_1 = nn.Conv2d(in_channels=1, out_channels=4, kernel_size=7, padding=3)\n",
    "        self.conv_2 = nn.Conv2d(in_channels=4, out_channels=8, kernel_size=5, padding=2)\n",
    "        self.conv_3 = nn.Conv2d(in_channels=8, out_channels=16, kernel_size=3, padding=1)\n",
    "        \n",
    "        self.fc_1 = nn.Linear(16 * 32 * 21, 512)\n",
    "        \n",
    "        self.fc2_mu = nn.Linear(512, 10)\n",
    "        self.fc2_var = nn.Linear(512, 10)\n",
    "        \n",
    "        self.fc1_decode = nn.Linear(10, 512)\n",
    "        self.fc2_decode = nn.Linear(512, 257*173)\n",
    "        \n",
    "        self.relu = nn.LeakyReLU(negative_slope=0.05)\n",
    "        self.pool = nn.MaxPool2d(kernel_size=(2,2))\n",
    "        \n",
    "    def encode(self, x):\n",
    "        x = self.pool(self.conv_1(x))\n",
    "        x = self.pool(self.conv_2(x))\n",
    "        x = self.pool(self.conv_3(x))\n",
    "        \n",
    "        x = x.view(-1, 16 * 32 *21)\n",
    "        x = self.fc_1(x)\n",
    "        \n",
    "        mu = self.fc2_mu(x)\n",
    "        var = self.fc2_var(x)\n",
    "        \n",
    "        return mu, var\n",
    "    \n",
    "    def reparameterize(self, mu, var):\n",
    "        std = torch.exp(var/2)\n",
    "        eps = torch.randn_like(std)\n",
    "        return mu + eps * std\n",
    "    \n",
    "    def decode(self, z):\n",
    "        z = self.relu(self.fc1_decode(z))\n",
    "        z = self.fc2_decode(z)\n",
    "        return z\n",
    "    \n",
    "    def forward(self, x):\n",
    "        mu, logvar = self.encode(x)\n",
    "        z = self.reparameterize(mu, logvar)\n",
    "        reconstructed = self.decode(z)\n",
    "        return reconstructed, mu, logvar"
   ]
  },
  {
   "cell_type": "code",
   "execution_count": 4,
   "id": "be8ce078",
   "metadata": {},
   "outputs": [],
   "source": [
    "def train(model, optimizer, epoch):\n",
    "    train_loss = 0\n",
    "    print_every = 100\n",
    "    model.train()\n",
    "    epoch_loss = 0\n",
    "    for idx, (images, label) in enumerate(data_loader):\n",
    "        if idx == len(data_loader) -1:\n",
    "            continue\n",
    "            \n",
    "        images = images.to(device)\n",
    "        \n",
    "        reconstructed, mu, logvar = model(images)\n",
    "        loss = loss_function(reconstructed_image=reconstructed, original_image=images, mu=mu, logvar=logvar)\n",
    "        \n",
    "        #print(loss)\n",
    "        \n",
    "        optimizer.zero_grad()\n",
    "        loss.backward()\n",
    "        train_loss += loss.item()\n",
    "        epoch_loss += loss.item()\n",
    "        optimizer.step()\n",
    "        \n",
    "            \n",
    "    print(\"===> Epoch {}, Average loss: {:.3f}\".format(epoch, epoch_loss/len(data_loader.dataset)))"
   ]
  },
  {
   "cell_type": "code",
   "execution_count": 8,
   "id": "f35c75d1",
   "metadata": {},
   "outputs": [
    {
     "name": "stdout",
     "output_type": "stream",
     "text": [
      "Data set already defined\n",
      "cuda\n"
     ]
    }
   ],
   "source": [
    "batch_size = 32\n",
    "\n",
    "try:\n",
    "    print(str_data_set)\n",
    "except:\n",
    "    print(\"Data set loaded\")\n",
    "    audio_dataset = torch.load(\"./audio_dataset\")\n",
    "    str_data_set = \"Data set already defined\"\n",
    "\n",
    "data_loader = DataLoader(dataset=audio_dataset, batch_size=batch_size, shuffle=True)\n",
    "\n",
    "device = torch.device(\"cuda\" if torch.cuda.is_available() else \"cpu\")\n",
    "print(device)\n",
    "model = VarationalCnnAutoEncoder().to(device)\n",
    "optimizer = torch.optim.Adam(model.parameters(), lr=0.0001)"
   ]
  },
  {
   "cell_type": "code",
   "execution_count": 6,
   "id": "5ee1c2cb",
   "metadata": {},
   "outputs": [],
   "source": [
    "def loss_function(reconstructed_image, original_image, mu, logvar):\n",
    "    \n",
    "    lined = original_image.view(-1, 1 * 257 * 173)\n",
    "    \n",
    "    #bce = F.binary_cross_entropy(reconstructed_image, lined, reduction = 'sum')\n",
    "        \n",
    "    bce = F.mse_loss(reconstructed_image, lined, reduction='sum')\n",
    "    \n",
    "    #kld = torch.sum(0.5 * torch.sum(logvar.exp() + mu.pow(2) - 1 - logvar, 1))\n",
    "    kld = 0.5 * torch.sum(logvar.exp() + mu.pow(2) - 1 - logvar)\n",
    "    \n",
    "    return bce + kld"
   ]
  },
  {
   "cell_type": "code",
   "execution_count": 9,
   "id": "8bdf116d",
   "metadata": {},
   "outputs": [
    {
     "name": "stdout",
     "output_type": "stream",
     "text": [
      "===> Epoch 0, Average loss: 1415944209634295296.000\n",
      "===> Epoch 1, Average loss: 3719014063.626\n",
      "===> Epoch 2, Average loss: 1132870131.247\n",
      "===> Epoch 3, Average loss: 57443231.853\n",
      "===> Epoch 4, Average loss: 2563703130.620\n"
     ]
    }
   ],
   "source": [
    "epochs = 5\n",
    "for i in range(epochs):\n",
    "    train(model=model, epoch=i, optimizer=optimizer)"
   ]
  },
  {
   "cell_type": "code",
   "execution_count": null,
   "id": "2587a640",
   "metadata": {},
   "outputs": [],
   "source": []
  }
 ],
 "metadata": {
  "kernelspec": {
   "display_name": "Python 3",
   "language": "python",
   "name": "python3"
  },
  "language_info": {
   "codemirror_mode": {
    "name": "ipython",
    "version": 3
   },
   "file_extension": ".py",
   "mimetype": "text/x-python",
   "name": "python",
   "nbconvert_exporter": "python",
   "pygments_lexer": "ipython3",
   "version": "3.6.13"
  }
 },
 "nbformat": 4,
 "nbformat_minor": 5
}
