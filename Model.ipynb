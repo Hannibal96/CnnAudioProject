{
 "cells": [
  {
   "cell_type": "code",
   "execution_count": 1,
   "id": "938180b8",
   "metadata": {},
   "outputs": [],
   "source": [
    "import torch\n",
    "import torch.nn as nn\n",
    "import matplotlib.pyplot as plt\n",
    "from tqdm import tqdm\n",
    "from torch.utils.data import Dataset, DataLoader, random_split, SubsetRandomSampler\n",
    "import pandas as pd\n",
    "import numpy as np"
   ]
  },
  {
   "cell_type": "code",
   "execution_count": 2,
   "id": "1e0ee080",
   "metadata": {},
   "outputs": [],
   "source": [
    "class AudioClassifyDataset(Dataset):\n",
    "    def __init__(self, root=\"./UrbanSound8K/\"):\n",
    "        \n",
    "        self.data = []\n",
    "        self.label = []\n",
    "        \n",
    "        FRAME_SIZE = 512\n",
    "        HOP_SIZE = 512\n",
    "        target_length = 88200\n",
    "        \n",
    "        meta = pd.read_csv(root+\"/metadata/UrbanSound8K.csv\")\n",
    "        \n",
    "        for fold in os.listdir(root+\"audio/\")[0:2]:\n",
    "            if fold[0] == '.':\n",
    "                continue\n",
    "            print(fold)\n",
    "\n",
    "            for file in tqdm(os.listdir(root+\"audio/\"+fold+\"/\")[1:11]):\n",
    "                if file[0] == '.':\n",
    "                    continue\n",
    "\n",
    "                PATH = root+\"audio/\"+fold+\"/\"+file\n",
    "                sig, sr = librosa.load(PATH)\n",
    "                sig = librosa.util.fix_length(sig, target_length)\n",
    "\n",
    "                S_scale = librosa.stft(sig, win_length=HOP_SIZE, n_fft=FRAME_SIZE, hop_length=HOP_SIZE)\n",
    "                Y_scale = abs(S_scale)**2\n",
    "                Y_db = librosa.power_to_db(Y_scale)\n",
    "                \n",
    "                \n",
    "                Y_db = np.expand_dims(Y_db, axis=0)\n",
    "                \n",
    "                #plot_spectrogram(sig, Y_db, sr, HOP_SIZE)\n",
    "                \n",
    "                idx = np.where(meta['slice_file_name'] == file)[0][0]\n",
    "                label = meta.iloc[[idx]]['classID'][idx]\n",
    "                \n",
    "                self.data.append(Y_db)\n",
    "                self.label.append(label)\n",
    "\n",
    "    def __len__(self):\n",
    "        assert(len(self.data) == len(self.label))\n",
    "        return len(self.label)\n",
    "\n",
    "    def __getitem__(self, idx):\n",
    "        return self.data[idx], self.label[idx]\n"
   ]
  },
  {
   "cell_type": "code",
   "execution_count": 32,
   "id": "8d2d24f1",
   "metadata": {},
   "outputs": [],
   "source": [
    "def eval_model(model, test_data):\n",
    "    epoch_loss = 0\n",
    "    model.eval()\n",
    "\n",
    "    with torch.no_grad():\n",
    "        corr_pred = 0\n",
    "        total_samples = 0\n",
    "\n",
    "        for data, label in tqdm(test_data):\n",
    "\n",
    "            data = data.to(device)\n",
    "            label = label.to(device)\n",
    "\n",
    "            outputs = model(data)\n",
    "            loss = criterion(outputs, label) # calculate the loss\n",
    "\n",
    "            corr_pred += (outputs.argmax(dim=1) == label).sum()\n",
    "            total_samples += len(label)\n",
    "\n",
    "            epoch_loss += loss.item()\n",
    "        \n",
    "    return epoch_loss / len(test_data), corr_pred / total_samples\n",
    "    "
   ]
  },
  {
   "cell_type": "code",
   "execution_count": 84,
   "id": "1934c7ea",
   "metadata": {},
   "outputs": [],
   "source": [
    "class AudioCnn(nn.Module):\n",
    "    def __init__(self):\n",
    "        super(AudioCnn, self).__init__()\n",
    "        self.conv_1 = nn.Conv2d(in_channels=1, out_channels=4, kernel_size=7, padding=3)\n",
    "        self.conv_2 = nn.Conv2d(in_channels=4, out_channels=8, kernel_size=5, padding=2)\n",
    "        self.conv_3 = nn.Conv2d(in_channels=8, out_channels=16, kernel_size=3, padding=1)\n",
    "        \n",
    "        self.fc1 = nn.Linear(16 * 32 * 21, 512)\n",
    "        self.fc2 = nn.Linear(512, 10)\n",
    "        \n",
    "        self.relu = nn.LeakyReLU(negative_slope=0.05)\n",
    "        self.pool = nn.MaxPool2d(kernel_size=(2,2))\n",
    "        self.drop = nn.Dropout(p=0.2)\n",
    "        self.norm = nn.BatchNorm2d(num_features=16)\n",
    "    \n",
    "    def forward(self, x):\n",
    "        x = self.conv_1(x)\n",
    "        x = self.pool(x)\n",
    "        \n",
    "        x = self.conv_2(x)\n",
    "        x = self.pool(x)\n",
    "        \n",
    "        x = self.conv_3(x)\n",
    "        x = self.pool(x)\n",
    "        x = self.norm(x)\n",
    "        \n",
    "        x = x.view(-1, 32 * 21 * 16)\n",
    "        x = self.relu(x)\n",
    "        #x = self.drop(x)\n",
    "        \n",
    "        x = self.fc1(x)\n",
    "        x = self.relu(x)\n",
    "        \n",
    "        x = self.fc2(x)\n",
    "        return x\n",
    "    "
   ]
  },
  {
   "cell_type": "code",
   "execution_count": 87,
   "id": "9d8f4050",
   "metadata": {},
   "outputs": [],
   "source": [
    "test_percent = 0.2\n",
    "batch_size = 32\n",
    "\n",
    "audio_dataset = torch.load(\"./audio_dataset\")\n",
    "data_length = len(audio_dataset)\n",
    "\n",
    "test_length = int(0.2 * data_length)\n",
    "train_length = data_length - test_length\n",
    "\n",
    "data_loader = DataLoader(dataset=audio_dataset, batch_size=batch_size, shuffle=True)\n",
    "\n",
    "train_indices, test_indices = random_split(range(data_length), [train_length, test_length])\n",
    "train_sampler = SubsetRandomSampler(train_indices)\n",
    "test_sampler = SubsetRandomSampler(test_indices)\n",
    "\n",
    "train_data = DataLoader(dataset=audio_dataset, batch_size=batch_size, sampler=train_sampler)\n",
    "test_data = DataLoader(dataset=audio_dataset, batch_size=batch_size, sampler=test_sampler)\n"
   ]
  },
  {
   "cell_type": "code",
   "execution_count": 106,
   "id": "21ab5f20",
   "metadata": {},
   "outputs": [
    {
     "name": "stdout",
     "output_type": "stream",
     "text": [
      "cuda:0\n"
     ]
    }
   ],
   "source": [
    "device = torch.device(\"cuda:0\" if torch.cuda.is_available() else \"cpu\")\n",
    "print(device)\n",
    "model = AudioCnn().to(device)\n",
    "criterion = nn.CrossEntropyLoss()        \n",
    "optimizer = torch.optim.Adam(model.parameters())"
   ]
  },
  {
   "cell_type": "code",
   "execution_count": 107,
   "id": "a973237a",
   "metadata": {},
   "outputs": [
    {
     "name": "stderr",
     "output_type": "stream",
     "text": [
      "100%|██████████████████████████████████████████████████████████████████████████████████| 55/55 [00:00<00:00, 62.95it/s]\n"
     ]
    },
    {
     "name": "stdout",
     "output_type": "stream",
     "text": [
      "Epoch #0 === test loss: 2.30, test accuracy: 14.49\n"
     ]
    },
    {
     "name": "stderr",
     "output_type": "stream",
     "text": [
      "100%|████████████████████████████████████████████████████████████████████████████████| 219/219 [00:09<00:00, 23.25it/s]\n",
      "100%|██████████████████████████████████████████████████████████████████████████████████| 55/55 [00:01<00:00, 48.71it/s]\n"
     ]
    },
    {
     "name": "stdout",
     "output_type": "stream",
     "text": [
      "Epoch #1 === train loss: 1.24, test loss: 0.95\n",
      "Epoch #1 === train accuracy: 60.64, test accuracy: 68.10\n"
     ]
    },
    {
     "name": "stderr",
     "output_type": "stream",
     "text": [
      "100%|████████████████████████████████████████████████████████████████████████████████| 219/219 [00:11<00:00, 18.30it/s]\n",
      "100%|██████████████████████████████████████████████████████████████████████████████████| 55/55 [00:01<00:00, 52.65it/s]\n"
     ]
    },
    {
     "name": "stdout",
     "output_type": "stream",
     "text": [
      "Epoch #2 === train loss: 0.54, test loss: 1.51\n",
      "Epoch #2 === train accuracy: 82.45, test accuracy: 57.45\n"
     ]
    },
    {
     "name": "stderr",
     "output_type": "stream",
     "text": [
      "100%|████████████████████████████████████████████████████████████████████████████████| 219/219 [00:11<00:00, 19.65it/s]\n",
      "100%|██████████████████████████████████████████████████████████████████████████████████| 55/55 [00:01<00:00, 50.42it/s]\n"
     ]
    },
    {
     "name": "stdout",
     "output_type": "stream",
     "text": [
      "Epoch #3 === train loss: 0.26, test loss: 0.57\n",
      "Epoch #3 === train accuracy: 91.87, test accuracy: 81.73\n"
     ]
    },
    {
     "name": "stderr",
     "output_type": "stream",
     "text": [
      "100%|████████████████████████████████████████████████████████████████████████████████| 219/219 [00:11<00:00, 19.52it/s]\n",
      "100%|██████████████████████████████████████████████████████████████████████████████████| 55/55 [00:01<00:00, 51.66it/s]\n"
     ]
    },
    {
     "name": "stdout",
     "output_type": "stream",
     "text": [
      "Epoch #4 === train loss: 0.14, test loss: 0.65\n",
      "Epoch #4 === train accuracy: 95.83, test accuracy: 81.44\n"
     ]
    },
    {
     "name": "stderr",
     "output_type": "stream",
     "text": [
      "100%|████████████████████████████████████████████████████████████████████████████████| 219/219 [00:10<00:00, 20.02it/s]\n",
      "100%|██████████████████████████████████████████████████████████████████████████████████| 55/55 [00:01<00:00, 51.71it/s]\n"
     ]
    },
    {
     "name": "stdout",
     "output_type": "stream",
     "text": [
      "Epoch #5 === train loss: 0.08, test loss: 0.88\n",
      "Epoch #5 === train accuracy: 97.44, test accuracy: 78.58\n"
     ]
    },
    {
     "name": "stderr",
     "output_type": "stream",
     "text": [
      "100%|████████████████████████████████████████████████████████████████████████████████| 219/219 [00:10<00:00, 20.48it/s]\n",
      "100%|██████████████████████████████████████████████████████████████████████████████████| 55/55 [00:01<00:00, 52.76it/s]\n"
     ]
    },
    {
     "name": "stdout",
     "output_type": "stream",
     "text": [
      "Epoch #6 === train loss: 0.05, test loss: 0.74\n",
      "Epoch #6 === train accuracy: 98.81, test accuracy: 82.19\n"
     ]
    },
    {
     "name": "stderr",
     "output_type": "stream",
     "text": [
      "100%|████████████████████████████████████████████████████████████████████████████████| 219/219 [00:10<00:00, 20.01it/s]\n",
      "100%|██████████████████████████████████████████████████████████████████████████████████| 55/55 [00:01<00:00, 50.07it/s]\n"
     ]
    },
    {
     "name": "stdout",
     "output_type": "stream",
     "text": [
      "Epoch #7 === train loss: 0.06, test loss: 0.74\n",
      "Epoch #7 === train accuracy: 98.38, test accuracy: 82.76\n"
     ]
    },
    {
     "name": "stderr",
     "output_type": "stream",
     "text": [
      "100%|████████████████████████████████████████████████████████████████████████████████| 219/219 [00:10<00:00, 20.43it/s]\n",
      "100%|██████████████████████████████████████████████████████████████████████████████████| 55/55 [00:01<00:00, 54.68it/s]\n"
     ]
    },
    {
     "name": "stdout",
     "output_type": "stream",
     "text": [
      "Epoch #8 === train loss: 0.07, test loss: 1.11\n",
      "Epoch #8 === train accuracy: 97.98, test accuracy: 74.63\n"
     ]
    },
    {
     "name": "stderr",
     "output_type": "stream",
     "text": [
      "100%|████████████████████████████████████████████████████████████████████████████████| 219/219 [00:10<00:00, 20.15it/s]\n",
      "100%|██████████████████████████████████████████████████████████████████████████████████| 55/55 [00:01<00:00, 52.04it/s]\n"
     ]
    },
    {
     "name": "stdout",
     "output_type": "stream",
     "text": [
      "Epoch #9 === train loss: 0.05, test loss: 0.65\n",
      "Epoch #9 === train accuracy: 98.37, test accuracy: 85.74\n"
     ]
    },
    {
     "name": "stderr",
     "output_type": "stream",
     "text": [
      "100%|████████████████████████████████████████████████████████████████████████████████| 219/219 [00:10<00:00, 20.49it/s]\n",
      "100%|██████████████████████████████████████████████████████████████████████████████████| 55/55 [00:01<00:00, 51.91it/s]"
     ]
    },
    {
     "name": "stdout",
     "output_type": "stream",
     "text": [
      "Epoch #10 === train loss: 0.01, test loss: 0.63\n",
      "Epoch #10 === train accuracy: 99.90, test accuracy: 86.25\n"
     ]
    },
    {
     "name": "stderr",
     "output_type": "stream",
     "text": [
      "\n"
     ]
    }
   ],
   "source": [
    "num_epochs = 10\n",
    "test_losses = []\n",
    "train_losses = []\n",
    "\n",
    "test_accuracy = []\n",
    "train_accuracy = []\n",
    "\n",
    "test_loss, test_acc = eval_model(model=model, test_data=test_data)\n",
    "print(\"Epoch #{} === test loss: {:.2f}, test accuracy: {:.2f}\".format(0, test_loss, test_acc*100))\n",
    "\n",
    "for epoch in range(num_epochs):\n",
    "    epoch_loss = 0\n",
    "    model.train()\n",
    "    total_samples = 0\n",
    "    corr_pred = 0\n",
    "    \n",
    "    for data, label in tqdm(train_data):\n",
    "        \n",
    "        data = data.to(device)\n",
    "        label = label.to(device)\n",
    "        \n",
    "        total_samples += len(label)\n",
    "        \n",
    "        outputs = model(data)\n",
    "        \n",
    "        corr_pred += (outputs.argmax(dim=1) == label).sum()\n",
    "        \n",
    "        loss = criterion(outputs, label) # calculate the loss\n",
    "        \n",
    "        optimizer.zero_grad() # zero the parameter gradients\n",
    "        loss.backward() # backpropagation\n",
    "        optimizer.step() # update parameters\n",
    "        \n",
    "        epoch_loss += loss.item()\n",
    "        \n",
    "    model.eval()\n",
    "    test_loss, test_acc = eval_model(model=model, test_data=test_data)\n",
    "    test_acc *= 100\n",
    "    \n",
    "    epoch_loss /= len(train_data)\n",
    "    epoch_accuracy = 100 * corr_pred / total_samples\n",
    "    \n",
    "    print(\"Epoch #{} === train loss: {:.2f}, test loss: {:.2f}\".format(epoch+1, epoch_loss, test_loss))\n",
    "    print(\"Epoch #{} === train accuracy: {:.2f}, test accuracy: {:.2f}\".format(epoch+1, epoch_accuracy, test_acc))\n",
    "    train_losses.append(epoch_loss)\n",
    "    test_losses.append(test_loss)\n",
    "    \n",
    "    train_accuracy.append(epoch_accuracy)\n",
    "    test_accuracy.append(test_acc)"
   ]
  },
  {
   "cell_type": "code",
   "execution_count": 110,
   "id": "85c988d4",
   "metadata": {},
   "outputs": [
    {
     "data": {
      "image/png": "[encoded data removed]",
      "text/plain": [
       "<Figure size 432x288 with 1 Axes>"
      ]
     },
     "metadata": {
      "needs_background": "light"
     },
     "output_type": "display_data"
    }
   ],
   "source": [
    "plt.plot(train_accuracy, label=\"Train\")\n",
    "plt.plot(test_accuracy, label=\"Test\")\n",
    "plt.xlabel(\"Epoch\")\n",
    "plt.ylabel(\"Accuracy\")\n",
    "plt.legend()\n",
    "plt.show()"
   ]
  },
  {
   "cell_type": "code",
   "execution_count": null,
   "id": "7943df6c",
   "metadata": {},
   "outputs": [],
   "source": []
  }
 ],
 "metadata": {
  "kernelspec": {
   "display_name": "Python 3",
   "language": "python",
   "name": "python3"
  },
  "language_info": {
   "codemirror_mode": {
    "name": "ipython",
    "version": 3
   },
   "file_extension": ".py",
   "mimetype": "text/x-python",
   "name": "python",
   "nbconvert_exporter": "python",
   "pygments_lexer": "ipython3",
   "version": "3.6.13"
  }
 },
 "nbformat": 4,
 "nbformat_minor": 5
}
